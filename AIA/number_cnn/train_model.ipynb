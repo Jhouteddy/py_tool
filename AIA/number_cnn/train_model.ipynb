{
 "cells": [
  {
   "cell_type": "code",
   "execution_count": 1,
   "metadata": {},
   "outputs": [],
   "source": [
    "import cv2\n",
    "import PIL\n",
    "from PIL import Image\n",
    "import matplotlib.pyplot as plt\n",
    "import numpy as np\n",
    "# import package\n",
    "import tensorflow.keras as keras\n",
    "from tensorflow.keras.preprocessing.image import ImageDataGenerator\n",
    "from tensorflow.keras.models import Model, load_model\n",
    "from tensorflow.keras.layers import Input, Dense, Dropout, Activation, Flatten, BatchNormalization, Conv2D, MaxPooling2D"
   ]
  },
  {
   "cell_type": "code",
   "execution_count": 10,
   "metadata": {},
   "outputs": [],
   "source": [
    "num_classes = 10"
   ]
  },
  {
   "cell_type": "code",
   "execution_count": 11,
   "metadata": {},
   "outputs": [],
   "source": [
    "train_datagen = ImageDataGenerator(rescale=1./255)\n",
    "test_datagen = ImageDataGenerator(rescale=1./255)"
   ]
  },
  {
   "cell_type": "code",
   "execution_count": 12,
   "metadata": {},
   "outputs": [
    {
     "name": "stdout",
     "output_type": "stream",
     "text": [
      "Found 70 images belonging to 10 classes.\n",
      "Found 70 images belonging to 10 classes.\n"
     ]
    }
   ],
   "source": [
    "train_generator = train_datagen.flow_from_directory(\n",
    "                                                    'data/train',\n",
    "                                                    target_size=(28, 28),\n",
    "                                                    batch_size=16,\n",
    "                                                    class_mode='categorical')\n",
    "\n",
    "valid_generator = test_datagen.flow_from_directory(\n",
    "                                                   'data/train',\n",
    "                                                   target_size=(28, 28),\n",
    "                                                   batch_size=16,\n",
    "                                                   class_mode='categorical')"
   ]
  },
  {
   "cell_type": "code",
   "execution_count": 13,
   "metadata": {},
   "outputs": [
    {
     "data": {
      "text/plain": [
       "{'0': 0,\n",
       " '1': 1,\n",
       " '2': 2,\n",
       " '3': 3,\n",
       " '4': 4,\n",
       " '5': 5,\n",
       " '6': 6,\n",
       " '7': 7,\n",
       " '8': 8,\n",
       " '9': 9}"
      ]
     },
     "execution_count": 13,
     "metadata": {},
     "output_type": "execute_result"
    }
   ],
   "source": [
    "train_generator.class_indices"
   ]
  },
  {
   "cell_type": "code",
   "execution_count": 14,
   "metadata": {},
   "outputs": [],
   "source": [
    "learning_rate = 0.0001\n",
    "batch_size = 16 \n",
    "epochs = 100\n",
    "\n",
    "optimizer = keras.optimizers.Adam(lr=learning_rate)\n",
    "\n",
    "inputs = Input(shape=(28, 28, 3))\n",
    "\n",
    "x = Conv2D(32, (3, 3), padding='same', activation='relu')(inputs)\n",
    "x = Conv2D(32, (3, 3), padding='same', activation='relu')(x)\n",
    "x = MaxPooling2D(pool_size=(2, 2))(x)\n",
    "x = Dropout(0.25)(x)\n",
    "\n",
    "x = Conv2D(64, (3, 3), padding='same', activation='relu')(x)\n",
    "x = Conv2D(64, (3, 3), padding='same', activation='relu')(x)\n",
    "x = MaxPooling2D(pool_size=(2, 2))(x)\n",
    "x = Dropout(0.25)(x)\n",
    "\n",
    "x = Flatten()(x)\n",
    "x = Dense(512, activation='relu')(x)\n",
    "x = Dropout(0.25)(x)\n",
    "outputs = Dense(num_classes, activation='softmax')(x)\n",
    "\n",
    "\n",
    "model = Model(inputs=inputs, outputs=outputs)"
   ]
  },
  {
   "cell_type": "code",
   "execution_count": 15,
   "metadata": {},
   "outputs": [],
   "source": [
    "model.compile(loss='categorical_crossentropy',\n",
    "              optimizer=optimizer,\n",
    "              metrics=['accuracy'])"
   ]
  },
  {
   "cell_type": "code",
   "execution_count": 16,
   "metadata": {},
   "outputs": [
    {
     "name": "stdout",
     "output_type": "stream",
     "text": [
      "Epoch 1/100\n",
      "4/4 [==============================] - 0s 64ms/step - loss: 2.2988 - accuracy: 0.1875 - val_loss: 2.1568 - val_accuracy: 0.4000\n",
      "Epoch 2/100\n",
      "4/4 [==============================] - 0s 37ms/step - loss: 2.1052 - accuracy: 0.4259 - val_loss: 2.0366 - val_accuracy: 0.4000\n",
      "Epoch 3/100\n",
      "4/4 [==============================] - 0s 40ms/step - loss: 1.9770 - accuracy: 0.3906 - val_loss: 1.9026 - val_accuracy: 0.4000\n",
      "Epoch 4/100\n",
      "4/4 [==============================] - 0s 37ms/step - loss: 1.8234 - accuracy: 0.4074 - val_loss: 1.7460 - val_accuracy: 0.4000\n",
      "Epoch 5/100\n",
      "4/4 [==============================] - 0s 39ms/step - loss: 1.6375 - accuracy: 0.4259 - val_loss: 1.5678 - val_accuracy: 0.4000\n",
      "Epoch 6/100\n",
      "4/4 [==============================] - 0s 38ms/step - loss: 1.5378 - accuracy: 0.3889 - val_loss: 1.3740 - val_accuracy: 0.5429\n",
      "Epoch 7/100\n",
      "4/4 [==============================] - 0s 40ms/step - loss: 1.3018 - accuracy: 0.5312 - val_loss: 1.1579 - val_accuracy: 0.6571\n",
      "Epoch 8/100\n",
      "4/4 [==============================] - 0s 39ms/step - loss: 1.1029 - accuracy: 0.6875 - val_loss: 0.9277 - val_accuracy: 0.8714\n",
      "Epoch 9/100\n",
      "4/4 [==============================] - 0s 38ms/step - loss: 0.8982 - accuracy: 0.8519 - val_loss: 0.7057 - val_accuracy: 0.9714\n",
      "Epoch 10/100\n",
      "4/4 [==============================] - 0s 41ms/step - loss: 0.6822 - accuracy: 0.9259 - val_loss: 0.4970 - val_accuracy: 1.0000\n",
      "Epoch 11/100\n",
      "4/4 [==============================] - 0s 38ms/step - loss: 0.4574 - accuracy: 0.9630 - val_loss: 0.3268 - val_accuracy: 1.0000\n",
      "Epoch 12/100\n",
      "4/4 [==============================] - 0s 40ms/step - loss: 0.3481 - accuracy: 0.9630 - val_loss: 0.2146 - val_accuracy: 1.0000\n",
      "Epoch 13/100\n",
      "4/4 [==============================] - 0s 39ms/step - loss: 0.2526 - accuracy: 0.9630 - val_loss: 0.1157 - val_accuracy: 1.0000\n",
      "Epoch 14/100\n",
      "4/4 [==============================] - 0s 38ms/step - loss: 0.1302 - accuracy: 1.0000 - val_loss: 0.0781 - val_accuracy: 1.0000\n",
      "Epoch 15/100\n",
      "4/4 [==============================] - 0s 46ms/step - loss: 0.1257 - accuracy: 0.9815 - val_loss: 0.0434 - val_accuracy: 1.0000\n",
      "Epoch 16/100\n",
      "4/4 [==============================] - 0s 39ms/step - loss: 0.0773 - accuracy: 0.9815 - val_loss: 0.0268 - val_accuracy: 1.0000\n",
      "Epoch 17/100\n",
      "4/4 [==============================] - 0s 42ms/step - loss: 0.0948 - accuracy: 0.9815 - val_loss: 0.0304 - val_accuracy: 1.0000\n",
      "Epoch 18/100\n",
      "4/4 [==============================] - 0s 40ms/step - loss: 0.0878 - accuracy: 0.9815 - val_loss: 0.0168 - val_accuracy: 1.0000\n",
      "Epoch 19/100\n",
      "4/4 [==============================] - 0s 41ms/step - loss: 0.0291 - accuracy: 1.0000 - val_loss: 0.0100 - val_accuracy: 1.0000\n",
      "Epoch 20/100\n",
      "4/4 [==============================] - 0s 40ms/step - loss: 0.0160 - accuracy: 1.0000 - val_loss: 0.0072 - val_accuracy: 1.0000\n",
      "Epoch 21/100\n",
      "4/4 [==============================] - 0s 39ms/step - loss: 0.0109 - accuracy: 1.0000 - val_loss: 0.0054 - val_accuracy: 1.0000\n",
      "Epoch 22/100\n",
      "4/4 [==============================] - 0s 39ms/step - loss: 0.0080 - accuracy: 1.0000 - val_loss: 0.0043 - val_accuracy: 1.0000\n",
      "Epoch 23/100\n",
      "4/4 [==============================] - 0s 41ms/step - loss: 0.0105 - accuracy: 1.0000 - val_loss: 0.0029 - val_accuracy: 1.0000\n",
      "Epoch 24/100\n",
      "4/4 [==============================] - 0s 43ms/step - loss: 0.0068 - accuracy: 1.0000 - val_loss: 0.0021 - val_accuracy: 1.0000\n",
      "Epoch 25/100\n",
      "4/4 [==============================] - 0s 44ms/step - loss: 0.0076 - accuracy: 1.0000 - val_loss: 0.0017 - val_accuracy: 1.0000\n",
      "Epoch 26/100\n",
      "4/4 [==============================] - 0s 40ms/step - loss: 0.0047 - accuracy: 1.0000 - val_loss: 0.0015 - val_accuracy: 1.0000\n",
      "Epoch 27/100\n",
      "4/4 [==============================] - 0s 38ms/step - loss: 0.0473 - accuracy: 0.9815 - val_loss: 0.0015 - val_accuracy: 1.0000\n",
      "Epoch 28/100\n",
      "4/4 [==============================] - 0s 42ms/step - loss: 0.0061 - accuracy: 1.0000 - val_loss: 0.0020 - val_accuracy: 1.0000\n",
      "Epoch 29/100\n",
      "4/4 [==============================] - 0s 39ms/step - loss: 0.0115 - accuracy: 1.0000 - val_loss: 0.0022 - val_accuracy: 1.0000\n",
      "Epoch 30/100\n",
      "4/4 [==============================] - 0s 43ms/step - loss: 0.0694 - accuracy: 0.9815 - val_loss: 0.0029 - val_accuracy: 1.0000\n",
      "Epoch 31/100\n",
      "4/4 [==============================] - 0s 42ms/step - loss: 0.0258 - accuracy: 0.9815 - val_loss: 0.0139 - val_accuracy: 1.0000\n",
      "Epoch 32/100\n",
      "4/4 [==============================] - 0s 37ms/step - loss: 0.0346 - accuracy: 0.9815 - val_loss: 0.0021 - val_accuracy: 1.0000\n",
      "Epoch 33/100\n",
      "4/4 [==============================] - 0s 38ms/step - loss: 0.0042 - accuracy: 1.0000 - val_loss: 0.0011 - val_accuracy: 1.0000\n",
      "Epoch 34/100\n",
      "4/4 [==============================] - 0s 37ms/step - loss: 0.0064 - accuracy: 1.0000 - val_loss: 0.0012 - val_accuracy: 1.0000\n",
      "Epoch 35/100\n",
      "4/4 [==============================] - 0s 37ms/step - loss: 0.0085 - accuracy: 1.0000 - val_loss: 0.0010 - val_accuracy: 1.0000\n",
      "Epoch 36/100\n",
      "4/4 [==============================] - 0s 37ms/step - loss: 0.0060 - accuracy: 1.0000 - val_loss: 9.1708e-04 - val_accuracy: 1.0000\n",
      "Epoch 37/100\n",
      "4/4 [==============================] - 0s 38ms/step - loss: 0.0061 - accuracy: 1.0000 - val_loss: 9.1092e-04 - val_accuracy: 1.0000\n",
      "Epoch 38/100\n",
      "4/4 [==============================] - 0s 37ms/step - loss: 0.0072 - accuracy: 1.0000 - val_loss: 9.1839e-04 - val_accuracy: 1.0000\n",
      "Epoch 39/100\n",
      "4/4 [==============================] - 0s 38ms/step - loss: 0.0058 - accuracy: 1.0000 - val_loss: 9.5674e-04 - val_accuracy: 1.0000\n",
      "Epoch 40/100\n",
      "4/4 [==============================] - 0s 38ms/step - loss: 0.0044 - accuracy: 1.0000 - val_loss: 9.5328e-04 - val_accuracy: 1.0000\n",
      "Epoch 41/100\n",
      "4/4 [==============================] - 0s 38ms/step - loss: 0.0066 - accuracy: 1.0000 - val_loss: 7.9215e-04 - val_accuracy: 1.0000\n",
      "Epoch 42/100\n",
      "4/4 [==============================] - 0s 38ms/step - loss: 0.0054 - accuracy: 1.0000 - val_loss: 6.2214e-04 - val_accuracy: 1.0000\n",
      "Epoch 43/100\n",
      "4/4 [==============================] - 0s 41ms/step - loss: 0.0022 - accuracy: 1.0000 - val_loss: 5.0269e-04 - val_accuracy: 1.0000\n",
      "Epoch 44/100\n",
      "4/4 [==============================] - 0s 38ms/step - loss: 0.0020 - accuracy: 1.0000 - val_loss: 4.2326e-04 - val_accuracy: 1.0000\n",
      "Epoch 45/100\n",
      "4/4 [==============================] - 0s 44ms/step - loss: 0.0026 - accuracy: 1.0000 - val_loss: 3.7160e-04 - val_accuracy: 1.0000\n",
      "Epoch 46/100\n",
      "4/4 [==============================] - 0s 39ms/step - loss: 0.0018 - accuracy: 1.0000 - val_loss: 3.3900e-04 - val_accuracy: 1.0000\n",
      "Epoch 47/100\n",
      "4/4 [==============================] - 0s 42ms/step - loss: 0.0012 - accuracy: 1.0000 - val_loss: 3.1765e-04 - val_accuracy: 1.0000\n",
      "Epoch 48/100\n",
      "4/4 [==============================] - 0s 40ms/step - loss: 0.0034 - accuracy: 1.0000 - val_loss: 3.0784e-04 - val_accuracy: 1.0000\n",
      "Epoch 49/100\n",
      "4/4 [==============================] - 0s 41ms/step - loss: 0.0013 - accuracy: 1.0000 - val_loss: 3.1168e-04 - val_accuracy: 1.0000\n",
      "Epoch 50/100\n",
      "4/4 [==============================] - 0s 38ms/step - loss: 0.0038 - accuracy: 1.0000 - val_loss: 2.9949e-04 - val_accuracy: 1.0000\n",
      "Epoch 51/100\n",
      "4/4 [==============================] - 0s 38ms/step - loss: 0.0048 - accuracy: 1.0000 - val_loss: 2.8341e-04 - val_accuracy: 1.0000\n",
      "Epoch 52/100\n",
      "4/4 [==============================] - 0s 39ms/step - loss: 0.0026 - accuracy: 1.0000 - val_loss: 3.6427e-04 - val_accuracy: 1.0000\n",
      "Epoch 53/100\n",
      "4/4 [==============================] - 0s 38ms/step - loss: 0.0022 - accuracy: 1.0000 - val_loss: 5.5742e-04 - val_accuracy: 1.0000\n",
      "Epoch 54/100\n",
      "4/4 [==============================] - 0s 43ms/step - loss: 0.0086 - accuracy: 1.0000 - val_loss: 5.2027e-04 - val_accuracy: 1.0000\n",
      "Epoch 55/100\n",
      "4/4 [==============================] - 0s 36ms/step - loss: 9.1187e-04 - accuracy: 1.0000 - val_loss: 2.5259e-04 - val_accuracy: 1.0000\n",
      "Epoch 56/100\n",
      "4/4 [==============================] - 0s 43ms/step - loss: 0.0024 - accuracy: 1.0000 - val_loss: 1.9280e-04 - val_accuracy: 1.0000\n",
      "Epoch 57/100\n",
      "4/4 [==============================] - 0s 37ms/step - loss: 0.0013 - accuracy: 1.0000 - val_loss: 1.6945e-04 - val_accuracy: 1.0000\n",
      "Epoch 58/100\n",
      "4/4 [==============================] - 0s 40ms/step - loss: 0.0016 - accuracy: 1.0000 - val_loss: 1.5749e-04 - val_accuracy: 1.0000\n",
      "Epoch 59/100\n",
      "4/4 [==============================] - 0s 37ms/step - loss: 8.2902e-04 - accuracy: 1.0000 - val_loss: 1.4602e-04 - val_accuracy: 1.0000\n",
      "Epoch 60/100\n",
      "4/4 [==============================] - 0s 40ms/step - loss: 0.0039 - accuracy: 1.0000 - val_loss: 1.9514e-04 - val_accuracy: 1.0000\n",
      "Epoch 61/100\n",
      "4/4 [==============================] - 0s 39ms/step - loss: 6.4190e-04 - accuracy: 1.0000 - val_loss: 3.7405e-04 - val_accuracy: 1.0000\n",
      "Epoch 62/100\n",
      "4/4 [==============================] - 0s 36ms/step - loss: 0.0022 - accuracy: 1.0000 - val_loss: 5.4726e-04 - val_accuracy: 1.0000\n",
      "Epoch 63/100\n",
      "4/4 [==============================] - 0s 36ms/step - loss: 0.0016 - accuracy: 1.0000 - val_loss: 5.3398e-04 - val_accuracy: 1.0000\n",
      "Epoch 64/100\n",
      "4/4 [==============================] - 0s 36ms/step - loss: 0.0012 - accuracy: 1.0000 - val_loss: 4.5723e-04 - val_accuracy: 1.0000\n",
      "Epoch 65/100\n",
      "4/4 [==============================] - 0s 36ms/step - loss: 9.7672e-04 - accuracy: 1.0000 - val_loss: 3.9252e-04 - val_accuracy: 1.0000\n",
      "Epoch 66/100\n",
      "4/4 [==============================] - 0s 39ms/step - loss: 0.0044 - accuracy: 1.0000 - val_loss: 2.5821e-04 - val_accuracy: 1.0000\n",
      "Epoch 67/100\n",
      "4/4 [==============================] - 0s 41ms/step - loss: 0.0011 - accuracy: 1.0000 - val_loss: 1.7920e-04 - val_accuracy: 1.0000\n",
      "Epoch 68/100\n",
      "4/4 [==============================] - 0s 37ms/step - loss: 9.1496e-04 - accuracy: 1.0000 - val_loss: 1.3699e-04 - val_accuracy: 1.0000\n",
      "Epoch 69/100\n",
      "4/4 [==============================] - 0s 39ms/step - loss: 0.0012 - accuracy: 1.0000 - val_loss: 1.1353e-04 - val_accuracy: 1.0000\n",
      "Epoch 70/100\n",
      "4/4 [==============================] - 0s 37ms/step - loss: 9.5736e-04 - accuracy: 1.0000 - val_loss: 1.0442e-04 - val_accuracy: 1.0000\n",
      "Epoch 71/100\n",
      "4/4 [==============================] - 0s 39ms/step - loss: 3.8245e-04 - accuracy: 1.0000 - val_loss: 1.0204e-04 - val_accuracy: 1.0000\n",
      "Epoch 72/100\n",
      "4/4 [==============================] - 0s 37ms/step - loss: 5.0669e-04 - accuracy: 1.0000 - val_loss: 9.9823e-05 - val_accuracy: 1.0000\n",
      "Epoch 73/100\n",
      "4/4 [==============================] - 0s 35ms/step - loss: 9.9447e-04 - accuracy: 1.0000 - val_loss: 9.7682e-05 - val_accuracy: 1.0000\n",
      "Epoch 74/100\n",
      "4/4 [==============================] - 0s 38ms/step - loss: 0.0017 - accuracy: 1.0000 - val_loss: 8.7081e-05 - val_accuracy: 1.0000\n",
      "Epoch 75/100\n",
      "4/4 [==============================] - 0s 37ms/step - loss: 4.3224e-04 - accuracy: 1.0000 - val_loss: 8.1132e-05 - val_accuracy: 1.0000\n",
      "Epoch 76/100\n",
      "4/4 [==============================] - 0s 42ms/step - loss: 8.0616e-04 - accuracy: 1.0000 - val_loss: 7.7451e-05 - val_accuracy: 1.0000\n",
      "Epoch 77/100\n",
      "4/4 [==============================] - 0s 41ms/step - loss: 2.8039e-04 - accuracy: 1.0000 - val_loss: 7.5240e-05 - val_accuracy: 1.0000\n",
      "Epoch 78/100\n",
      "4/4 [==============================] - 0s 41ms/step - loss: 0.0010 - accuracy: 1.0000 - val_loss: 7.3164e-05 - val_accuracy: 1.0000\n",
      "Epoch 79/100\n",
      "4/4 [==============================] - 0s 37ms/step - loss: 3.9978e-04 - accuracy: 1.0000 - val_loss: 7.1536e-05 - val_accuracy: 1.0000\n",
      "Epoch 80/100\n",
      "4/4 [==============================] - 0s 39ms/step - loss: 0.0015 - accuracy: 1.0000 - val_loss: 6.7620e-05 - val_accuracy: 1.0000\n",
      "Epoch 81/100\n",
      "4/4 [==============================] - 0s 37ms/step - loss: 4.8540e-04 - accuracy: 1.0000 - val_loss: 6.3622e-05 - val_accuracy: 1.0000\n",
      "Epoch 82/100\n",
      "4/4 [==============================] - 0s 39ms/step - loss: 4.8431e-04 - accuracy: 1.0000 - val_loss: 6.0496e-05 - val_accuracy: 1.0000\n",
      "Epoch 83/100\n",
      "4/4 [==============================] - 0s 39ms/step - loss: 4.9701e-04 - accuracy: 1.0000 - val_loss: 5.7588e-05 - val_accuracy: 1.0000\n",
      "Epoch 84/100\n",
      "4/4 [==============================] - 0s 40ms/step - loss: 2.9738e-04 - accuracy: 1.0000 - val_loss: 5.5376e-05 - val_accuracy: 1.0000\n",
      "Epoch 85/100\n",
      "4/4 [==============================] - 0s 40ms/step - loss: 2.4605e-04 - accuracy: 1.0000 - val_loss: 5.3578e-05 - val_accuracy: 1.0000\n",
      "Epoch 86/100\n",
      "4/4 [==============================] - 0s 37ms/step - loss: 7.2293e-04 - accuracy: 1.0000 - val_loss: 5.2658e-05 - val_accuracy: 1.0000\n",
      "Epoch 87/100\n",
      "4/4 [==============================] - 0s 38ms/step - loss: 0.0012 - accuracy: 1.0000 - val_loss: 4.9508e-05 - val_accuracy: 1.0000\n",
      "Epoch 88/100\n",
      "4/4 [==============================] - 0s 40ms/step - loss: 6.0390e-04 - accuracy: 1.0000 - val_loss: 4.7351e-05 - val_accuracy: 1.0000\n",
      "Epoch 89/100\n",
      "4/4 [==============================] - 0s 36ms/step - loss: 0.0048 - accuracy: 1.0000 - val_loss: 6.3800e-05 - val_accuracy: 1.0000\n",
      "Epoch 90/100\n",
      "4/4 [==============================] - 0s 37ms/step - loss: 9.3384e-04 - accuracy: 1.0000 - val_loss: 8.6413e-05 - val_accuracy: 1.0000\n",
      "Epoch 91/100\n",
      "4/4 [==============================] - 0s 36ms/step - loss: 3.8199e-04 - accuracy: 1.0000 - val_loss: 1.0104e-04 - val_accuracy: 1.0000\n",
      "Epoch 92/100\n",
      "4/4 [==============================] - 0s 37ms/step - loss: 9.6727e-04 - accuracy: 1.0000 - val_loss: 9.1985e-05 - val_accuracy: 1.0000\n",
      "Epoch 93/100\n",
      "4/4 [==============================] - 0s 38ms/step - loss: 4.5601e-04 - accuracy: 1.0000 - val_loss: 8.0886e-05 - val_accuracy: 1.0000\n",
      "Epoch 94/100\n",
      "4/4 [==============================] - 0s 39ms/step - loss: 0.0030 - accuracy: 1.0000 - val_loss: 5.2919e-05 - val_accuracy: 1.0000\n",
      "Epoch 95/100\n",
      "4/4 [==============================] - 0s 42ms/step - loss: 2.2573e-04 - accuracy: 1.0000 - val_loss: 4.2070e-05 - val_accuracy: 1.0000\n",
      "Epoch 96/100\n",
      "4/4 [==============================] - 0s 42ms/step - loss: 4.4079e-04 - accuracy: 1.0000 - val_loss: 3.9106e-05 - val_accuracy: 1.0000\n",
      "Epoch 97/100\n",
      "4/4 [==============================] - 0s 43ms/step - loss: 0.0011 - accuracy: 1.0000 - val_loss: 3.6052e-05 - val_accuracy: 1.0000\n",
      "Epoch 98/100\n",
      "4/4 [==============================] - 0s 38ms/step - loss: 6.3730e-04 - accuracy: 1.0000 - val_loss: 3.3534e-05 - val_accuracy: 1.0000\n",
      "Epoch 99/100\n",
      "4/4 [==============================] - 0s 41ms/step - loss: 0.0010 - accuracy: 1.0000 - val_loss: 3.1487e-05 - val_accuracy: 1.0000\n",
      "Epoch 100/100\n",
      "4/4 [==============================] - 0s 43ms/step - loss: 0.0013 - accuracy: 1.0000 - val_loss: 2.8757e-05 - val_accuracy: 1.0000\n"
     ]
    },
    {
     "data": {
      "text/plain": [
       "<tensorflow.python.keras.callbacks.History at 0x2d7a81bcb88>"
      ]
     },
     "execution_count": 16,
     "metadata": {},
     "output_type": "execute_result"
    }
   ],
   "source": [
    "model.fit_generator(train_generator,\n",
    "                               steps_per_epoch=train_generator.n//batch_size,\n",
    "                               epochs=epochs,\n",
    "                               validation_data=valid_generator,verbose=1)"
   ]
  },
  {
   "cell_type": "code",
   "execution_count": 17,
   "metadata": {},
   "outputs": [],
   "source": [
    "model.save('./keras_model.h5')"
   ]
  },
  {
   "cell_type": "code",
   "execution_count": 32,
   "metadata": {},
   "outputs": [
    {
     "name": "stdout",
     "output_type": "stream",
     "text": [
      "預測結果= 5\n"
     ]
    },
    {
     "data": {
      "image/png": "[encoded data removed]",
      "text/plain": [
       "<Figure size 432x288 with 1 Axes>"
      ]
     },
     "metadata": {
      "needs_background": "light"
     },
     "output_type": "display_data"
    }
   ],
   "source": [
    "img=cv2.imread('3-6.png')\n",
    "plt.imshow(img)\n",
    "pre=model.predict(img.reshape(1,28,28,3))\n",
    "y_pre = np.argmax(pre)\n",
    "print(\"預測結果=\",y_pre)"
   ]
  }
 ],
 "metadata": {
  "kernelspec": {
   "display_name": "Python 3",
   "language": "python",
   "name": "python3"
  },
  "language_info": {
   "codemirror_mode": {
    "name": "ipython",
    "version": 3
   },
   "file_extension": ".py",
   "mimetype": "text/x-python",
   "name": "python",
   "nbconvert_exporter": "python",
   "pygments_lexer": "ipython3",
   "version": "3.7.7"
  }
 },
 "nbformat": 4,
 "nbformat_minor": 4
}
